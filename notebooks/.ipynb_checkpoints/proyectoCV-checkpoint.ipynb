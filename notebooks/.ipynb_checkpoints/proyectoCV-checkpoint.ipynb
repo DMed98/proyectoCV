{
 "cells": [
  {
   "cell_type": "code",
   "execution_count": 33,
   "metadata": {},
   "outputs": [],
   "source": [
    "import tensorflow as tf\n",
    "from tensorflow import keras\n",
    "import os\n",
    "import sys\n",
    "import cv2 as cv\n",
    "import random\n",
    "import pandas as pd\n",
    "import numpy as np\n",
    "import matplotlib.pyplot as plt\n",
    "from sklearn.model_selection import train_test_split\n",
    "from sklearn.metrics import *\n",
    "from tqdm import tqdm\n",
    "%matplotlib inline"
   ]
  },
  {
   "cell_type": "code",
   "execution_count": 34,
   "metadata": {},
   "outputs": [
    {
     "name": "stdout",
     "output_type": "stream",
     "text": [
      "clase : c0 Numero de ejemplares: 2489\n",
      "clase : c1 Numero de ejemplares: 2267\n",
      "clase : c2 Numero de ejemplares: 2317\n",
      "clase : c3 Numero de ejemplares: 2346\n",
      "clase : c4 Numero de ejemplares: 2326\n",
      "clase : c5 Numero de ejemplares: 2312\n",
      "clase : c6 Numero de ejemplares: 2325\n",
      "clase : c7 Numero de ejemplares: 2002\n",
      "clase : c8 Numero de ejemplares: 1911\n",
      "clase : c9 Numero de ejemplares: 2129\n"
     ]
    }
   ],
   "source": [
    "classes={0:'Safe Driving'\n",
    "         ,1:'texting - right'\n",
    "         ,2:'talking on the phone - right'\n",
    "         ,3:'texting - left'\n",
    "         ,4:'talking on the phone - left'\n",
    "         ,5:'operating the radio'\n",
    "         ,6:'drinking'\n",
    "         ,7:'reaching behind'\n",
    "         ,8:'hair and makeup'\n",
    "         ,9:'talking to passenger'}\n",
    "data1 = pd.read_csv('../files/driver_imgs_list.csv')\n",
    "for j in np.unique(data1[\"classname\"]):\n",
    "    print (\"clase :\",j,\"Numero de ejemplares:\",np.count_nonzero(data1[\"classname\"][data1.classname==j]))"
   ]
  },
  {
   "cell_type": "markdown",
   "metadata": {},
   "source": [
    "### Dataset :"
   ]
  },
  {
   "cell_type": "code",
   "execution_count": null,
   "metadata": {},
   "outputs": [
    {
     "name": "stderr",
     "output_type": "stream",
     "text": [
      "100%|█████████████████████████████████████████████████████████████████████████████████| 10/10 [30:10<00:00, 188.87s/it]\n"
     ]
    }
   ],
   "source": [
    "path_images='../../datasets/driver-detections/train/'\n",
    "size=20000\n",
    "X=[]\n",
    "y=[]\n",
    "for i in tqdm(np.unique(data1[\"classname\"])):\n",
    "    for j in np.random.choice(data1[\"img\"][data1.classname==i],size):\n",
    "    #for j in data1[\"img\"][data1.classname==i]:\n",
    "        temp_image=cv.cvtColor(cv.imread(path_images+i+\"/\"+j), cv.COLOR_BGR2RGB)\n",
    "        X.append(cv.resize(temp_image,(64,64),interpolation = cv.INTER_CUBIC))\n",
    "        y.append(int(i[-1]))\n",
    "        \n",
    "c = list(zip(X, y))\n",
    "\n",
    "random.shuffle(c)\n",
    "\n",
    "X,y = zip(*c)   \n",
    "\n",
    "X=np.array(X)\n",
    "y=np.array(y)\n",
    "\n",
    "test_size = 0.2\n",
    "X_train, X_test, y_train, y_test = train_test_split(X,y,test_size=test_size,shuffle=1)\n",
    "\n",
    "\n",
    "\n",
    "X_train = X_train.astype('float32')\n",
    "X_train /= 255\n",
    "X_test = X_test.astype('float32')\n",
    "X_test /= 255\n"
   ]
  },
  {
   "cell_type": "code",
   "execution_count": null,
   "metadata": {},
   "outputs": [],
   "source": [
    "model_CNN =  keras.models.Sequential()\n",
    "model_CNN.add(keras.layers.Conv2D(20, (5, 5), activation='relu', kernel_initializer='he_uniform', padding='valid', input_shape=(64, 64, 3)))\n",
    "model_CNN.add(keras.layers.MaxPooling2D((2, 2)))\n",
    "model_CNN.add(keras.layers.Conv2D(50, (5, 5), activation='relu', kernel_initializer='he_uniform', padding='valid'))\n",
    "model_CNN.add(keras.layers.MaxPooling2D((2, 2)))\n",
    "model_CNN.add(keras.layers.Flatten())\n",
    "model_CNN.add(keras.layers.Dense(500, activation='relu', kernel_initializer='he_uniform'))\n",
    "model_CNN.add(keras.layers.Dense(10, activation='softmax'))\n",
    "\n",
    "model_CNN.summary()"
   ]
  },
  {
   "cell_type": "code",
   "execution_count": null,
   "metadata": {},
   "outputs": [],
   "source": [
    "opt = keras.optimizers.SGD(lr=0.001, momentum=0.9)\n",
    "model_CNN.compile(optimizer=opt, loss='sparse_categorical_crossentropy',metrics=['accuracy'])\n"
   ]
  },
  {
   "cell_type": "code",
   "execution_count": null,
   "metadata": {
    "scrolled": false
   },
   "outputs": [],
   "source": [
    "history = model_CNN.fit(X_train,y_train, epochs=10, batch_size=160, verbose=1,validation_data=(X_test, y_test))"
   ]
  },
  {
   "cell_type": "code",
   "execution_count": null,
   "metadata": {},
   "outputs": [],
   "source": [
    "path_test_images='./datasets/driver-detections/test/'\n",
    "test_images_names=os.listdir(path_test_images)"
   ]
  },
  {
   "cell_type": "code",
   "execution_count": null,
   "metadata": {},
   "outputs": [],
   "source": [
    "\n",
    "test_images=[]\n",
    "temp=np.random.choice(test_images_names,9)\n",
    "for i in temp:\n",
    "    temp_image=cv.cvtColor(cv.imread(path_test_images+i), cv.COLOR_BGR2RGB)\n",
    "    test_images.append(cv.resize(temp_image,(64,64),interpolation = cv.INTER_CUBIC))\n",
    "    \n",
    "test_images=np.array(test_images)\n",
    "plt.figure(figsize=(15,15))\n",
    "for i in range(9):\n",
    "    plt.subplot(3,3,i+1)\n",
    "    plt.xticks([])\n",
    "    plt.yticks([])\n",
    "    plt.grid(False)\n",
    "    plt.imshow(test_images[i],cmap=plt.cm.binary)\n",
    "    plt.xlabel(temp[i])\n",
    "\n",
    "test_images = test_images.astype('float32')\n",
    "test_images/= 255\n",
    "\n",
    "prediccion=model_CNN.predict(test_images)\n",
    "for i in range(len(test_images)):\n",
    "    print (\"Foto:\",temp[i],\"valor predicho:\",  np.argmax(prediccion[i]), \" clase: \", classes[np.argmax(prediccion[i])])"
   ]
  },
  {
   "cell_type": "code",
   "execution_count": null,
   "metadata": {},
   "outputs": [],
   "source": [
    "plt.plot(history.history['acc'], label='Train Accuracy')\n",
    "plt.plot(history.history['val_acc'], label='Validation Accuracy')\n",
    "plt.xlabel('Epochs')\n",
    "plt.ylabel('Accuracy')\n",
    "plt.legend()"
   ]
  },
  {
   "cell_type": "code",
   "execution_count": null,
   "metadata": {},
   "outputs": [],
   "source": []
  }
 ],
 "metadata": {
  "kernelspec": {
   "display_name": "Python 3",
   "language": "python",
   "name": "python3"
  },
  "language_info": {
   "codemirror_mode": {
    "name": "ipython",
    "version": 3
   },
   "file_extension": ".py",
   "mimetype": "text/x-python",
   "name": "python",
   "nbconvert_exporter": "python",
   "pygments_lexer": "ipython3",
   "version": "3.7.4"
  }
 },
 "nbformat": 4,
 "nbformat_minor": 2
}

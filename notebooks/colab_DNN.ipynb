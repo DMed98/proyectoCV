{
  "nbformat": 4,
  "nbformat_minor": 0,
  "metadata": {
    "kernelspec": {
      "name": "python2",
      "display_name": "Python 2"
    },
    "language_info": {
      "codemirror_mode": {
        "name": "ipython",
        "version": 2
      },
      "file_extension": ".py",
      "mimetype": "text/x-python",
      "name": "python",
      "nbconvert_exporter": "python",
      "pygments_lexer": "ipython2",
      "version": "2.7.14"
    },
    "colab": {
      "name": "colab_DNN.ipynb",
      "version": "0.3.2",
      "provenance": [],
      "collapsed_sections": []
    },
    "accelerator": "GPU"
  },
  "cells": [
    {
      "cell_type": "code",
      "metadata": {
        "id": "cH15Cqks5LIc",
        "colab_type": "code",
        "outputId": "e2c89c4f-0d92-4876-93ad-c050e309c782",
        "colab": {
          "base_uri": "https://localhost:8080/",
          "height": 129
        }
      },
      "source": [
        "from google.colab import drive\n",
        "drive.mount('/content/drive')"
      ],
      "execution_count": 1,
      "outputs": [
        {
          "output_type": "stream",
          "text": [
            "Go to this URL in a browser: https://accounts.google.com/o/oauth2/auth?client_id=947318989803-6bn6qk8qdgf4n4g3pfee6491hc0brc4i.apps.googleusercontent.com&redirect_uri=urn%3Aietf%3Awg%3Aoauth%3A2.0%3Aoob&scope=email%20https%3A%2F%2Fwww.googleapis.com%2Fauth%2Fdocs.test%20https%3A%2F%2Fwww.googleapis.com%2Fauth%2Fdrive%20https%3A%2F%2Fwww.googleapis.com%2Fauth%2Fdrive.photos.readonly%20https%3A%2F%2Fwww.googleapis.com%2Fauth%2Fpeopleapi.readonly&response_type=code\n",
            "\n",
            "Enter your authorization code:\n",
            "··········\n",
            "Mounted at /content/drive\n"
          ],
          "name": "stdout"
        }
      ]
    },
    {
      "cell_type": "markdown",
      "metadata": {
        "id": "VF2pz1UA4ujl",
        "colab_type": "text"
      },
      "source": [
        "## Librerías :"
      ]
    },
    {
      "cell_type": "code",
      "metadata": {
        "id": "jmQQELCo4ujp",
        "colab_type": "code",
        "colab": {}
      },
      "source": [
        "import tensorflow as tf\n",
        "from tensorflow import keras\n",
        "import os\n",
        "import sys\n",
        "import cv2 as cv\n",
        "import random\n",
        "import pandas as pd\n",
        "import numpy as np\n",
        "import matplotlib.pyplot as plt\n",
        "from sklearn.model_selection import train_test_split\n",
        "from sklearn.metrics import *\n",
        "from tqdm import tqdm\n",
        "%matplotlib inline"
      ],
      "execution_count": 0,
      "outputs": []
    },
    {
      "cell_type": "markdown",
      "metadata": {
        "id": "i8dhdAe_4ujx",
        "colab_type": "text"
      },
      "source": [
        "## Data Analysis:\n"
      ]
    },
    {
      "cell_type": "code",
      "metadata": {
        "id": "vy2cJ3fB4ujz",
        "colab_type": "code",
        "outputId": "7b28b3fc-1024-42a4-8bf2-60ce4fdb274f",
        "colab": {
          "base_uri": "https://localhost:8080/",
          "height": 201
        }
      },
      "source": [
        "classes={0:'Safe Driving'\n",
        "         ,1:'texting - right'\n",
        "         ,2:'talking on the phone - right'\n",
        "         ,3:'texting - left'\n",
        "         ,4:'talking on the phone - left'\n",
        "         ,5:'operating the radio'\n",
        "         ,6:'drinking'\n",
        "         ,7:'reaching behind'\n",
        "         ,8:'hair and makeup'\n",
        "         ,9:'talking to passenger'}\n",
        "data1 = pd.read_csv('/content/drive/My Drive/proyectoCV/driver_imgs_list.csv')\n",
        "for j in np.unique(data1[\"classname\"]):\n",
        "    print (\"clase :\",j,\"Numero de ejemplares:\",np.count_nonzero(data1[\"classname\"][data1.classname==j]))"
      ],
      "execution_count": 4,
      "outputs": [
        {
          "output_type": "stream",
          "text": [
            "('clase :', 'c0', 'Numero de ejemplares:', 2489)\n",
            "('clase :', 'c1', 'Numero de ejemplares:', 2267)\n",
            "('clase :', 'c2', 'Numero de ejemplares:', 2317)\n",
            "('clase :', 'c3', 'Numero de ejemplares:', 2346)\n",
            "('clase :', 'c4', 'Numero de ejemplares:', 2326)\n",
            "('clase :', 'c5', 'Numero de ejemplares:', 2312)\n",
            "('clase :', 'c6', 'Numero de ejemplares:', 2325)\n",
            "('clase :', 'c7', 'Numero de ejemplares:', 2002)\n",
            "('clase :', 'c8', 'Numero de ejemplares:', 1911)\n",
            "('clase :', 'c9', 'Numero de ejemplares:', 2129)\n"
          ],
          "name": "stdout"
        }
      ]
    },
    {
      "cell_type": "markdown",
      "metadata": {
        "id": "agDWglJT4ukc",
        "colab_type": "text"
      },
      "source": [
        "## Dataset Creation:"
      ]
    },
    {
      "cell_type": "code",
      "metadata": {
        "scrolled": true,
        "id": "e0foK0EF4uj6",
        "colab_type": "code",
        "outputId": "dd849ddf-5b83-490a-fbc0-db1b869dcff0",
        "colab": {
          "base_uri": "https://localhost:8080/",
          "height": 35
        }
      },
      "source": [
        "path_images='/content/drive/My Drive/proyectoCV/train/'\n",
        "#size=20000\n",
        "X=[]\n",
        "y=[]\n",
        "for i in tqdm(np.unique(data1[\"classname\"])):\n",
        "    #for j in np.random.choice(data1[\"img\"][data1.classname==i],size):\n",
        "    for j in data1[\"img\"][data1.classname==i]:\n",
        "        #print(path_images+i+\"/\"+j)\n",
        "        temp_image=cv.cvtColor(cv.imread(path_images+i+\"/\"+j), cv.COLOR_BGR2RGB)\n",
        "        X.append(cv.resize(temp_image,(64,64),interpolation = cv.INTER_CUBIC))\n",
        "        y.append(int(i[-1]))\n",
        "        \n",
        "c = list(zip(X, y))\n",
        "\n",
        "random.shuffle(c)\n",
        "\n",
        "X,y = zip(*c)   \n",
        "\n",
        "X=np.array(X)\n",
        "y=np.array(y)\n",
        "\n",
        "test_size = 0.2\n",
        "X_train, X_test, y_train, y_test = train_test_split(X,y,test_size=test_size,shuffle=1)\n",
        "\n",
        "\n",
        "\n",
        "X_train = X_train.astype('float32')\n",
        "X_train /= 255\n",
        "X_test = X_test.astype('float32')\n",
        "X_test /= 255\n",
        "#data1 = pd.read_csv('../files/driver_imgs_list.csv')\n",
        "\n",
        "#for j in np.unique(data1[\"classname\"]):\n",
        "#    print \"clase :\",j,\"Numero de ejemplares:\",np.count_nonzero(data1[\"classname\"][data1.classname==j])"
      ],
      "execution_count": 5,
      "outputs": [
        {
          "output_type": "stream",
          "text": [
            "100%|██████████| 10/10 [1:58:11<00:00, 651.93s/it]\n"
          ],
          "name": "stderr"
        }
      ]
    },
    {
      "cell_type": "code",
      "metadata": {
        "id": "9tSVrgxJ4uj_",
        "colab_type": "code",
        "outputId": "c068f43d-bd7b-4269-a144-70fda074f880",
        "colab": {
          "base_uri": "https://localhost:8080/",
          "height": 35
        }
      },
      "source": [
        "print(X_train.shape,X_test.shape,y_train.shape,y_test.shape)"
      ],
      "execution_count": 7,
      "outputs": [
        {
          "output_type": "stream",
          "text": [
            "((17939, 64, 64, 3), (4485, 64, 64, 3), (17939,), (4485,))\n"
          ],
          "name": "stdout"
        }
      ]
    },
    {
      "cell_type": "code",
      "metadata": {
        "id": "zQDUxKau4ukF",
        "colab_type": "code",
        "outputId": "a9457ef8-2b17-4df4-e345-0871cab42e25",
        "colab": {
          "base_uri": "https://localhost:8080/",
          "height": 206
        }
      },
      "source": [
        "data1.head()"
      ],
      "execution_count": 8,
      "outputs": [
        {
          "output_type": "execute_result",
          "data": {
            "text/html": [
              "<div>\n",
              "<style scoped>\n",
              "    .dataframe tbody tr th:only-of-type {\n",
              "        vertical-align: middle;\n",
              "    }\n",
              "\n",
              "    .dataframe tbody tr th {\n",
              "        vertical-align: top;\n",
              "    }\n",
              "\n",
              "    .dataframe thead th {\n",
              "        text-align: right;\n",
              "    }\n",
              "</style>\n",
              "<table border=\"1\" class=\"dataframe\">\n",
              "  <thead>\n",
              "    <tr style=\"text-align: right;\">\n",
              "      <th></th>\n",
              "      <th>subject</th>\n",
              "      <th>classname</th>\n",
              "      <th>img</th>\n",
              "    </tr>\n",
              "  </thead>\n",
              "  <tbody>\n",
              "    <tr>\n",
              "      <th>0</th>\n",
              "      <td>p002</td>\n",
              "      <td>c0</td>\n",
              "      <td>img_44733.jpg</td>\n",
              "    </tr>\n",
              "    <tr>\n",
              "      <th>1</th>\n",
              "      <td>p002</td>\n",
              "      <td>c0</td>\n",
              "      <td>img_72999.jpg</td>\n",
              "    </tr>\n",
              "    <tr>\n",
              "      <th>2</th>\n",
              "      <td>p002</td>\n",
              "      <td>c0</td>\n",
              "      <td>img_25094.jpg</td>\n",
              "    </tr>\n",
              "    <tr>\n",
              "      <th>3</th>\n",
              "      <td>p002</td>\n",
              "      <td>c0</td>\n",
              "      <td>img_69092.jpg</td>\n",
              "    </tr>\n",
              "    <tr>\n",
              "      <th>4</th>\n",
              "      <td>p002</td>\n",
              "      <td>c0</td>\n",
              "      <td>img_92629.jpg</td>\n",
              "    </tr>\n",
              "  </tbody>\n",
              "</table>\n",
              "</div>"
            ],
            "text/plain": [
              "  subject classname            img\n",
              "0    p002        c0  img_44733.jpg\n",
              "1    p002        c0  img_72999.jpg\n",
              "2    p002        c0  img_25094.jpg\n",
              "3    p002        c0  img_69092.jpg\n",
              "4    p002        c0  img_92629.jpg"
            ]
          },
          "metadata": {
            "tags": []
          },
          "execution_count": 8
        }
      ]
    },
    {
      "cell_type": "markdown",
      "metadata": {
        "id": "RdBmyOXR4uko",
        "colab_type": "text"
      },
      "source": [
        "## DNN model definition:\n",
        "\n",
        "### <span style=\"color:orange\"> Model 1</span>:"
      ]
    },
    {
      "cell_type": "code",
      "metadata": {
        "id": "WpMYRscy4ukr",
        "colab_type": "code",
        "colab": {}
      },
      "source": [
        "model = keras.models.Sequential([\n",
        "    keras.layers.Flatten( input_shape=[64, 64, 3]),\n",
        "    keras.layers.Dense(512, activation=tf.nn.relu),\n",
        "    keras.layers.Dense(256, activation=tf.nn.relu),\n",
        "    keras.layers.Dense(10, activation=tf.nn.softmax)\n",
        "])"
      ],
      "execution_count": 0,
      "outputs": []
    },
    {
      "cell_type": "code",
      "metadata": {
        "id": "Y-fpQfiJ4ukv",
        "colab_type": "code",
        "outputId": "f5e78480-d7ff-4f9d-b8b2-4a30636061f6",
        "colab": {
          "base_uri": "https://localhost:8080/",
          "height": 311
        }
      },
      "source": [
        "model.summary()"
      ],
      "execution_count": 17,
      "outputs": [
        {
          "output_type": "stream",
          "text": [
            "Model: \"sequential_1\"\n",
            "_________________________________________________________________\n",
            "Layer (type)                 Output Shape              Param #   \n",
            "=================================================================\n",
            "flatten_1 (Flatten)          (None, 12288)             0         \n",
            "_________________________________________________________________\n",
            "dense_3 (Dense)              (None, 512)               6291968   \n",
            "_________________________________________________________________\n",
            "dense_4 (Dense)              (None, 256)               131328    \n",
            "_________________________________________________________________\n",
            "dense_5 (Dense)              (None, 10)                2570      \n",
            "=================================================================\n",
            "Total params: 6,425,866\n",
            "Trainable params: 6,425,866\n",
            "Non-trainable params: 0\n",
            "_________________________________________________________________\n"
          ],
          "name": "stdout"
        }
      ]
    },
    {
      "cell_type": "markdown",
      "metadata": {
        "id": "SChXJFRU4uky",
        "colab_type": "text"
      },
      "source": [
        "$Fitting:$"
      ]
    },
    {
      "cell_type": "code",
      "metadata": {
        "id": "MGBh_QSm4uk0",
        "colab_type": "code",
        "colab": {}
      },
      "source": [
        "model.compile(optimizer=tf.train.AdamOptimizer(), \n",
        "              loss='sparse_categorical_crossentropy',\n",
        "              metrics=['accuracy'])"
      ],
      "execution_count": 0,
      "outputs": []
    },
    {
      "cell_type": "code",
      "metadata": {
        "id": "hdZ7FXmK4uk3",
        "colab_type": "code",
        "outputId": "5814c880-d4e7-4122-f33f-418677b3fffc",
        "colab": {
          "base_uri": "https://localhost:8080/",
          "height": 403
        }
      },
      "source": [
        "history = model.fit(X_train,y_train, epochs=10, batch_size=160, verbose=2,validation_data=(X_test, y_test))"
      ],
      "execution_count": 19,
      "outputs": [
        {
          "output_type": "stream",
          "text": [
            "Train on 17939 samples, validate on 4485 samples\n",
            "Epoch 1/10\n",
            "17939/17939 - 1s - loss: 2.3389 - acc: 0.3589 - val_loss: 1.2738 - val_acc: 0.6685\n",
            "Epoch 2/10\n",
            "17939/17939 - 1s - loss: 0.9521 - acc: 0.7388 - val_loss: 0.6639 - val_acc: 0.8011\n",
            "Epoch 3/10\n",
            "17939/17939 - 1s - loss: 0.4437 - acc: 0.8988 - val_loss: 0.2805 - val_acc: 0.9456\n",
            "Epoch 4/10\n",
            "17939/17939 - 1s - loss: 0.2306 - acc: 0.9507 - val_loss: 0.1773 - val_acc: 0.9666\n",
            "Epoch 5/10\n",
            "17939/17939 - 1s - loss: 0.1403 - acc: 0.9717 - val_loss: 0.1151 - val_acc: 0.9730\n",
            "Epoch 6/10\n",
            "17939/17939 - 1s - loss: 0.0910 - acc: 0.9808 - val_loss: 0.1020 - val_acc: 0.9739\n",
            "Epoch 7/10\n",
            "17939/17939 - 1s - loss: 0.0662 - acc: 0.9873 - val_loss: 0.0778 - val_acc: 0.9822\n",
            "Epoch 8/10\n",
            "17939/17939 - 1s - loss: 0.0476 - acc: 0.9908 - val_loss: 0.1359 - val_acc: 0.9579\n",
            "Epoch 9/10\n",
            "17939/17939 - 1s - loss: 0.0650 - acc: 0.9836 - val_loss: 0.0622 - val_acc: 0.9853\n",
            "Epoch 10/10\n",
            "17939/17939 - 1s - loss: 0.0309 - acc: 0.9939 - val_loss: 0.0668 - val_acc: 0.9819\n"
          ],
          "name": "stdout"
        }
      ]
    },
    {
      "cell_type": "code",
      "metadata": {
        "id": "XDrwRb3d4uk9",
        "colab_type": "code",
        "outputId": "569f1917-e60b-4a12-d21f-22f2f78e0ad7",
        "colab": {
          "base_uri": "https://localhost:8080/",
          "height": 301
        }
      },
      "source": [
        "plt.plot(history.history['acc'], label='Train Accuracy')\n",
        "plt.plot(history.history['val_acc'], label='Validation Accuracy')\n",
        "plt.xlabel('Epochs')\n",
        "plt.ylabel('Accuracy')\n",
        "plt.legend()"
      ],
      "execution_count": 20,
      "outputs": [
        {
          "output_type": "execute_result",
          "data": {
            "text/plain": [
              "<matplotlib.legend.Legend at 0x7fe2be76d8d0>"
            ]
          },
          "metadata": {
            "tags": []
          },
          "execution_count": 20
        },
        {
          "output_type": "display_data",
          "data": {
            "image/png": "[encoded data removed]",
            "text/plain": [
              "<Figure size 432x288 with 1 Axes>"
            ]
          },
          "metadata": {
            "tags": []
          }
        }
      ]
    },
    {
      "cell_type": "markdown",
      "metadata": {
        "id": "gyhfJOL34ulB",
        "colab_type": "text"
      },
      "source": [
        "## Model 2"
      ]
    },
    {
      "cell_type": "code",
      "metadata": {
        "id": "hBNRTmON4ulD",
        "colab_type": "code",
        "colab": {}
      },
      "source": [
        "model2 = keras.models.Sequential([\n",
        "    keras.layers.Flatten( input_shape=[64, 64, 3]),\n",
        "    keras.layers.Dense(512, activation=tf.nn.relu),\n",
        "    keras.layers.Dense(512, activation=tf.nn.relu),\n",
        "    keras.layers.Dense(512, activation=tf.nn.relu),\n",
        "    keras.layers.Dense(10, activation=tf.nn.softmax)\n",
        "])"
      ],
      "execution_count": 0,
      "outputs": []
    },
    {
      "cell_type": "code",
      "metadata": {
        "id": "UIYrNq4s4ulH",
        "colab_type": "code",
        "outputId": "5c18a57c-f8e5-4241-c0a4-927d8c5353d7",
        "colab": {
          "base_uri": "https://localhost:8080/",
          "height": 348
        }
      },
      "source": [
        "model2.summary()"
      ],
      "execution_count": 22,
      "outputs": [
        {
          "output_type": "stream",
          "text": [
            "Model: \"sequential_2\"\n",
            "_________________________________________________________________\n",
            "Layer (type)                 Output Shape              Param #   \n",
            "=================================================================\n",
            "flatten_2 (Flatten)          (None, 12288)             0         \n",
            "_________________________________________________________________\n",
            "dense_6 (Dense)              (None, 512)               6291968   \n",
            "_________________________________________________________________\n",
            "dense_7 (Dense)              (None, 512)               262656    \n",
            "_________________________________________________________________\n",
            "dense_8 (Dense)              (None, 512)               262656    \n",
            "_________________________________________________________________\n",
            "dense_9 (Dense)              (None, 10)                5130      \n",
            "=================================================================\n",
            "Total params: 6,822,410\n",
            "Trainable params: 6,822,410\n",
            "Non-trainable params: 0\n",
            "_________________________________________________________________\n"
          ],
          "name": "stdout"
        }
      ]
    },
    {
      "cell_type": "code",
      "metadata": {
        "id": "JQJbfrS74ulM",
        "colab_type": "code",
        "colab": {}
      },
      "source": [
        "model2.compile(optimizer=tf.train.AdamOptimizer(), \n",
        "              loss='sparse_categorical_crossentropy',\n",
        "              metrics=['accuracy'])"
      ],
      "execution_count": 0,
      "outputs": []
    },
    {
      "cell_type": "code",
      "metadata": {
        "id": "xQDaQq0V4ulQ",
        "colab_type": "code",
        "outputId": "f2d23521-9abd-4d54-b303-ebfdbe5740d0",
        "colab": {
          "base_uri": "https://localhost:8080/",
          "height": 403
        }
      },
      "source": [
        "history = model2.fit(X_train,y_train, epochs=10, batch_size=160, verbose=2,validation_data=(X_test, y_test))"
      ],
      "execution_count": 24,
      "outputs": [
        {
          "output_type": "stream",
          "text": [
            "Train on 17939 samples, validate on 4485 samples\n",
            "Epoch 1/10\n",
            "17939/17939 - 1s - loss: 2.0578 - acc: 0.3531 - val_loss: 1.0531 - val_acc: 0.6272\n",
            "Epoch 2/10\n",
            "17939/17939 - 1s - loss: 0.5779 - acc: 0.8198 - val_loss: 0.2850 - val_acc: 0.9173\n",
            "Epoch 3/10\n",
            "17939/17939 - 1s - loss: 0.2053 - acc: 0.9391 - val_loss: 0.2252 - val_acc: 0.9273\n",
            "Epoch 4/10\n",
            "17939/17939 - 1s - loss: 0.1540 - acc: 0.9538 - val_loss: 0.4895 - val_acc: 0.8225\n",
            "Epoch 5/10\n",
            "17939/17939 - 1s - loss: 0.1006 - acc: 0.9688 - val_loss: 0.5105 - val_acc: 0.8595\n",
            "Epoch 6/10\n",
            "17939/17939 - 1s - loss: 0.1588 - acc: 0.9505 - val_loss: 0.1235 - val_acc: 0.9592\n",
            "Epoch 7/10\n",
            "17939/17939 - 1s - loss: 0.0700 - acc: 0.9779 - val_loss: 0.0765 - val_acc: 0.9779\n",
            "Epoch 8/10\n",
            "17939/17939 - 1s - loss: 0.0649 - acc: 0.9795 - val_loss: 0.1629 - val_acc: 0.9378\n",
            "Epoch 9/10\n",
            "17939/17939 - 1s - loss: 0.0420 - acc: 0.9863 - val_loss: 0.1418 - val_acc: 0.9559\n",
            "Epoch 10/10\n",
            "17939/17939 - 1s - loss: 0.0496 - acc: 0.9832 - val_loss: 0.0782 - val_acc: 0.9761\n"
          ],
          "name": "stdout"
        }
      ]
    },
    {
      "cell_type": "code",
      "metadata": {
        "id": "Gx-kjrNY4ulT",
        "colab_type": "code",
        "outputId": "7e7961c4-2c14-4ada-864f-768eebeef631",
        "colab": {
          "base_uri": "https://localhost:8080/",
          "height": 301
        }
      },
      "source": [
        "plt.plot(history.history['acc'], label='Train Accuracy')\n",
        "plt.plot(history.history['val_acc'], label='Validation Accuracy')\n",
        "plt.xlabel('Epochs')\n",
        "plt.ylabel('Accuracy')\n",
        "plt.legend()"
      ],
      "execution_count": 25,
      "outputs": [
        {
          "output_type": "execute_result",
          "data": {
            "text/plain": [
              "<matplotlib.legend.Legend at 0x7fe2be3d4150>"
            ]
          },
          "metadata": {
            "tags": []
          },
          "execution_count": 25
        },
        {
          "output_type": "display_data",
          "data": {
            "image/png": "[encoded data removed]",
            "text/plain": [
              "<Figure size 432x288 with 1 Axes>"
            ]
          },
          "metadata": {
            "tags": []
          }
        }
      ]
    },
    {
      "cell_type": "markdown",
      "metadata": {
        "id": "V1-FWigJ4ulb",
        "colab_type": "text"
      },
      "source": [
        "## Model 3"
      ]
    },
    {
      "cell_type": "code",
      "metadata": {
        "id": "pWlW5pfS4ulc",
        "colab_type": "code",
        "colab": {}
      },
      "source": [
        "model3 = keras.models.Sequential([\n",
        "    keras.layers.Flatten( input_shape=[64, 64, 3]),\n",
        "    keras.layers.Dense(128, activation=tf.nn.relu),\n",
        "    keras.layers.Dense(256, activation=tf.nn.relu),\n",
        "    keras.layers.Dense(512, activation=tf.nn.relu),\n",
        "    keras.layers.Dense(1024, activation=tf.nn.softmax)\n",
        "])"
      ],
      "execution_count": 0,
      "outputs": []
    },
    {
      "cell_type": "code",
      "metadata": {
        "id": "7f-89TIx4ulg",
        "colab_type": "code",
        "outputId": "6510ac51-c0c6-466a-ef01-609fbeb92de1",
        "colab": {
          "base_uri": "https://localhost:8080/",
          "height": 348
        }
      },
      "source": [
        "model3.summary()"
      ],
      "execution_count": 56,
      "outputs": [
        {
          "output_type": "stream",
          "text": [
            "Model: \"sequential_9\"\n",
            "_________________________________________________________________\n",
            "Layer (type)                 Output Shape              Param #   \n",
            "=================================================================\n",
            "flatten_9 (Flatten)          (None, 12288)             0         \n",
            "_________________________________________________________________\n",
            "dense_27 (Dense)             (None, 128)               1572992   \n",
            "_________________________________________________________________\n",
            "dense_28 (Dense)             (None, 256)               33024     \n",
            "_________________________________________________________________\n",
            "dense_29 (Dense)             (None, 512)               131584    \n",
            "_________________________________________________________________\n",
            "dense_30 (Dense)             (None, 1024)              525312    \n",
            "=================================================================\n",
            "Total params: 2,262,912\n",
            "Trainable params: 2,262,912\n",
            "Non-trainable params: 0\n",
            "_________________________________________________________________\n"
          ],
          "name": "stdout"
        }
      ]
    },
    {
      "cell_type": "code",
      "metadata": {
        "id": "Mva7TuxN4ulk",
        "colab_type": "code",
        "colab": {}
      },
      "source": [
        "model3.compile(optimizer=tf.train.AdamOptimizer(), \n",
        "              loss='sparse_categorical_crossentropy',\n",
        "              metrics=['accuracy'])"
      ],
      "execution_count": 0,
      "outputs": []
    },
    {
      "cell_type": "code",
      "metadata": {
        "id": "w1gqp5oX4ulm",
        "colab_type": "code",
        "outputId": "7907bd21-cafa-47b2-958e-799ebbc823fa",
        "colab": {
          "base_uri": "https://localhost:8080/",
          "height": 403
        }
      },
      "source": [
        "history = model3.fit(X_train,y_train, epochs=10, batch_size=160, verbose=2,validation_data=(X_test, y_test))"
      ],
      "execution_count": 58,
      "outputs": [
        {
          "output_type": "stream",
          "text": [
            "Train on 17939 samples, validate on 4485 samples\n",
            "Epoch 1/10\n",
            "17939/17939 - 1s - loss: 1.8414 - acc: 0.3934 - val_loss: 0.8989 - val_acc: 0.6892\n",
            "Epoch 2/10\n",
            "17939/17939 - 1s - loss: 0.5192 - acc: 0.8356 - val_loss: 0.5111 - val_acc: 0.8312\n",
            "Epoch 3/10\n",
            "17939/17939 - 1s - loss: 0.2202 - acc: 0.9351 - val_loss: 0.4157 - val_acc: 0.8571\n",
            "Epoch 4/10\n",
            "17939/17939 - 1s - loss: 0.1597 - acc: 0.9493 - val_loss: 0.2370 - val_acc: 0.9302\n",
            "Epoch 5/10\n",
            "17939/17939 - 1s - loss: 0.0961 - acc: 0.9700 - val_loss: 0.0928 - val_acc: 0.9715\n",
            "Epoch 6/10\n",
            "17939/17939 - 1s - loss: 0.0749 - acc: 0.9750 - val_loss: 0.1734 - val_acc: 0.9396\n",
            "Epoch 7/10\n",
            "17939/17939 - 1s - loss: 0.0786 - acc: 0.9753 - val_loss: 0.0910 - val_acc: 0.9746\n",
            "Epoch 8/10\n",
            "17939/17939 - 1s - loss: 0.0526 - acc: 0.9828 - val_loss: 0.0618 - val_acc: 0.9810\n",
            "Epoch 9/10\n",
            "17939/17939 - 1s - loss: 0.0193 - acc: 0.9948 - val_loss: 0.0559 - val_acc: 0.9855\n",
            "Epoch 10/10\n",
            "17939/17939 - 1s - loss: 0.0441 - acc: 0.9852 - val_loss: 0.1273 - val_acc: 0.9632\n"
          ],
          "name": "stdout"
        }
      ]
    },
    {
      "cell_type": "code",
      "metadata": {
        "id": "gMbbEJh-4ulq",
        "colab_type": "code",
        "outputId": "af11c21a-d8d1-41da-b18e-afefae9fc704",
        "colab": {
          "base_uri": "https://localhost:8080/",
          "height": 301
        }
      },
      "source": [
        "plt.plot(history.history['acc'], label='Train Accuracy')\n",
        "plt.plot(history.history['val_acc'], label='Validation Accuracy')\n",
        "plt.xlabel('Epochs')\n",
        "plt.ylabel('Accuracy')\n",
        "plt.legend()"
      ],
      "execution_count": 59,
      "outputs": [
        {
          "output_type": "execute_result",
          "data": {
            "text/plain": [
              "<matplotlib.legend.Legend at 0x7fe2531bf8d0>"
            ]
          },
          "metadata": {
            "tags": []
          },
          "execution_count": 59
        },
        {
          "output_type": "display_data",
          "data": {
            "image/png": "[encoded data removed]",
            "text/plain": [
              "<Figure size 432x288 with 1 Axes>"
            ]
          },
          "metadata": {
            "tags": []
          }
        }
      ]
    },
    {
      "cell_type": "markdown",
      "metadata": {
        "id": "WCg0BHPs4umB",
        "colab_type": "text"
      },
      "source": [
        "## Model 4"
      ]
    },
    {
      "cell_type": "code",
      "metadata": {
        "id": "a50bR4pc4umD",
        "colab_type": "code",
        "colab": {}
      },
      "source": [
        "model4 = keras.models.Sequential([\n",
        "    keras.layers.Flatten( input_shape=[64, 64, 3]),\n",
        "    keras.layers.Dense(400, activation=tf.nn.relu),\n",
        "    keras.layers.Dense(10, activation=tf.nn.softmax)\n",
        "])"
      ],
      "execution_count": 0,
      "outputs": []
    },
    {
      "cell_type": "code",
      "metadata": {
        "id": "ZIKWcWeO4umE",
        "colab_type": "code",
        "outputId": "93b92149-c0f1-42d0-97ce-1364e939b836",
        "colab": {
          "base_uri": "https://localhost:8080/",
          "height": 274
        }
      },
      "source": [
        "model4.summary()"
      ],
      "execution_count": 36,
      "outputs": [
        {
          "output_type": "stream",
          "text": [
            "Model: \"sequential_5\"\n",
            "_________________________________________________________________\n",
            "Layer (type)                 Output Shape              Param #   \n",
            "=================================================================\n",
            "flatten_5 (Flatten)          (None, 12288)             0         \n",
            "_________________________________________________________________\n",
            "dense_16 (Dense)             (None, 400)               4915600   \n",
            "_________________________________________________________________\n",
            "dense_17 (Dense)             (None, 10)                4010      \n",
            "=================================================================\n",
            "Total params: 4,919,610\n",
            "Trainable params: 4,919,610\n",
            "Non-trainable params: 0\n",
            "_________________________________________________________________\n"
          ],
          "name": "stdout"
        }
      ]
    },
    {
      "cell_type": "code",
      "metadata": {
        "id": "kLvrfGvz4umH",
        "colab_type": "code",
        "colab": {}
      },
      "source": [
        "model4.compile(optimizer=tf.train.AdamOptimizer(), \n",
        "              loss='sparse_categorical_crossentropy',\n",
        "              metrics=['accuracy'])"
      ],
      "execution_count": 0,
      "outputs": []
    },
    {
      "cell_type": "code",
      "metadata": {
        "id": "pB97uQPk4umJ",
        "colab_type": "code",
        "outputId": "39629ae7-aa44-4c35-bdb7-8b1eb7cf87d4",
        "colab": {
          "base_uri": "https://localhost:8080/",
          "height": 403
        }
      },
      "source": [
        "history = model4.fit(X_train,y_train, epochs=10, batch_size=160, verbose=2,validation_data=(X_test, y_test))"
      ],
      "execution_count": 38,
      "outputs": [
        {
          "output_type": "stream",
          "text": [
            "Train on 17939 samples, validate on 4485 samples\n",
            "Epoch 1/10\n",
            "17939/17939 - 1s - loss: 2.4814 - acc: 0.4359 - val_loss: 1.1436 - val_acc: 0.6818\n",
            "Epoch 2/10\n",
            "17939/17939 - 1s - loss: 0.8921 - acc: 0.7872 - val_loss: 0.6492 - val_acc: 0.8722\n",
            "Epoch 3/10\n",
            "17939/17939 - 1s - loss: 0.5306 - acc: 0.8970 - val_loss: 0.4033 - val_acc: 0.9304\n",
            "Epoch 4/10\n",
            "17939/17939 - 1s - loss: 0.3289 - acc: 0.9456 - val_loss: 0.3033 - val_acc: 0.9438\n",
            "Epoch 5/10\n",
            "17939/17939 - 1s - loss: 0.2258 - acc: 0.9648 - val_loss: 0.2566 - val_acc: 0.9369\n",
            "Epoch 6/10\n",
            "17939/17939 - 1s - loss: 0.1637 - acc: 0.9735 - val_loss: 0.1671 - val_acc: 0.9695\n",
            "Epoch 7/10\n",
            "17939/17939 - 1s - loss: 0.1248 - acc: 0.9805 - val_loss: 0.1215 - val_acc: 0.9790\n",
            "Epoch 8/10\n",
            "17939/17939 - 1s - loss: 0.0970 - acc: 0.9867 - val_loss: 0.1275 - val_acc: 0.9712\n",
            "Epoch 9/10\n",
            "17939/17939 - 1s - loss: 0.0787 - acc: 0.9893 - val_loss: 0.0928 - val_acc: 0.9795\n",
            "Epoch 10/10\n",
            "17939/17939 - 1s - loss: 0.0598 - acc: 0.9926 - val_loss: 0.0822 - val_acc: 0.9853\n"
          ],
          "name": "stdout"
        }
      ]
    },
    {
      "cell_type": "code",
      "metadata": {
        "id": "4RkYoyuC4umM",
        "colab_type": "code",
        "outputId": "45c92ed0-3295-4674-8915-11c7b3747504",
        "colab": {
          "base_uri": "https://localhost:8080/",
          "height": 301
        }
      },
      "source": [
        "plt.plot(history.history['acc'], label='Train Accuracy')\n",
        "plt.plot(history.history['val_acc'], label='Validation Accuracy')\n",
        "plt.xlabel('Epochs')\n",
        "plt.ylabel('Accuracy')\n",
        "plt.legend()"
      ],
      "execution_count": 39,
      "outputs": [
        {
          "output_type": "execute_result",
          "data": {
            "text/plain": [
              "<matplotlib.legend.Legend at 0x7fe253e1ca90>"
            ]
          },
          "metadata": {
            "tags": []
          },
          "execution_count": 39
        },
        {
          "output_type": "display_data",
          "data": {
            "image/png": "[encoded data removed]",
            "text/plain": [
              "<Figure size 432x288 with 1 Axes>"
            ]
          },
          "metadata": {
            "tags": []
          }
        }
      ]
    },
    {
      "cell_type": "markdown",
      "metadata": {
        "id": "GX6podc64ulw",
        "colab_type": "text"
      },
      "source": [
        "## Model 5"
      ]
    },
    {
      "cell_type": "code",
      "metadata": {
        "id": "i4rwG33j4uly",
        "colab_type": "code",
        "colab": {}
      },
      "source": [
        "model5 = keras.models.Sequential([\n",
        "    keras.layers.Flatten( input_shape=[64, 64, 3]),\n",
        "    keras.layers.Dense(10, activation=tf.nn.softmax)\n",
        "])"
      ],
      "execution_count": 0,
      "outputs": []
    },
    {
      "cell_type": "code",
      "metadata": {
        "id": "kC8dxvvB4ul0",
        "colab_type": "code",
        "outputId": "0aeedf0b-c06d-43c3-b1cd-4dba1b1bd543",
        "colab": {
          "base_uri": "https://localhost:8080/",
          "height": 237
        }
      },
      "source": [
        "model5.summary()"
      ],
      "execution_count": 41,
      "outputs": [
        {
          "output_type": "stream",
          "text": [
            "Model: \"sequential_6\"\n",
            "_________________________________________________________________\n",
            "Layer (type)                 Output Shape              Param #   \n",
            "=================================================================\n",
            "flatten_6 (Flatten)          (None, 12288)             0         \n",
            "_________________________________________________________________\n",
            "dense_18 (Dense)             (None, 10)                122890    \n",
            "=================================================================\n",
            "Total params: 122,890\n",
            "Trainable params: 122,890\n",
            "Non-trainable params: 0\n",
            "_________________________________________________________________\n"
          ],
          "name": "stdout"
        }
      ]
    },
    {
      "cell_type": "code",
      "metadata": {
        "id": "24DNecyI4ul2",
        "colab_type": "code",
        "colab": {}
      },
      "source": [
        "model5.compile(optimizer=tf.train.AdamOptimizer(), \n",
        "              loss='sparse_categorical_crossentropy',\n",
        "              metrics=['accuracy'])"
      ],
      "execution_count": 0,
      "outputs": []
    },
    {
      "cell_type": "code",
      "metadata": {
        "id": "gpOuXQVL4ul6",
        "colab_type": "code",
        "outputId": "568b2512-bb88-4bde-aa58-412060eb0015",
        "colab": {
          "base_uri": "https://localhost:8080/",
          "height": 403
        }
      },
      "source": [
        "history = model5.fit(X_train,y_train, epochs=10, batch_size=160, verbose=2,validation_data=(X_test, y_test))"
      ],
      "execution_count": 43,
      "outputs": [
        {
          "output_type": "stream",
          "text": [
            "Train on 17939 samples, validate on 4485 samples\n",
            "Epoch 1/10\n",
            "17939/17939 - 1s - loss: 1.6567 - acc: 0.5083 - val_loss: 0.8985 - val_acc: 0.7886\n",
            "Epoch 2/10\n",
            "17939/17939 - 1s - loss: 0.6932 - acc: 0.8650 - val_loss: 0.5424 - val_acc: 0.8952\n",
            "Epoch 3/10\n",
            "17939/17939 - 1s - loss: 0.4325 - acc: 0.9291 - val_loss: 0.4060 - val_acc: 0.9072\n",
            "Epoch 4/10\n",
            "17939/17939 - 1s - loss: 0.3099 - acc: 0.9546 - val_loss: 0.2764 - val_acc: 0.9616\n",
            "Epoch 5/10\n",
            "17939/17939 - 1s - loss: 0.2280 - acc: 0.9687 - val_loss: 0.2221 - val_acc: 0.9666\n",
            "Epoch 6/10\n",
            "17939/17939 - 1s - loss: 0.1861 - acc: 0.9765 - val_loss: 0.1850 - val_acc: 0.9730\n",
            "Epoch 7/10\n",
            "17939/17939 - 1s - loss: 0.1564 - acc: 0.9796 - val_loss: 0.1688 - val_acc: 0.9724\n",
            "Epoch 8/10\n",
            "17939/17939 - 1s - loss: 0.1240 - acc: 0.9862 - val_loss: 0.1446 - val_acc: 0.9773\n",
            "Epoch 9/10\n",
            "17939/17939 - 1s - loss: 0.1105 - acc: 0.9868 - val_loss: 0.1239 - val_acc: 0.9808\n",
            "Epoch 10/10\n",
            "17939/17939 - 1s - loss: 0.0929 - acc: 0.9905 - val_loss: 0.1087 - val_acc: 0.9844\n"
          ],
          "name": "stdout"
        }
      ]
    },
    {
      "cell_type": "code",
      "metadata": {
        "id": "Mzu8Kujn4ul9",
        "colab_type": "code",
        "outputId": "30a4dbb2-5372-4027-b2bc-53624461286b",
        "colab": {
          "base_uri": "https://localhost:8080/",
          "height": 301
        }
      },
      "source": [
        "plt.plot(history.history['acc'], label='Train Accuracy')\n",
        "plt.plot(history.history['val_acc'], label='Validation Accuracy')\n",
        "plt.xlabel('Epochs')\n",
        "plt.ylabel('Accuracy')\n",
        "plt.legend()"
      ],
      "execution_count": 44,
      "outputs": [
        {
          "output_type": "execute_result",
          "data": {
            "text/plain": [
              "<matplotlib.legend.Legend at 0x7fe253c36510>"
            ]
          },
          "metadata": {
            "tags": []
          },
          "execution_count": 44
        },
        {
          "output_type": "display_data",
          "data": {
            "image/png": "[encoded data removed]",
            "text/plain": [
              "<Figure size 432x288 with 1 Axes>"
            ]
          },
          "metadata": {
            "tags": []
          }
        }
      ]
    },
    {
      "cell_type": "code",
      "metadata": {
        "id": "Gbksk4vpE6dP",
        "colab_type": "code",
        "colab": {}
      },
      "source": [
        ""
      ],
      "execution_count": 0,
      "outputs": []
    }
  ]
}
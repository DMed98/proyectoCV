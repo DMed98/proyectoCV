{
 "cells": [
  {
   "cell_type": "code",
   "execution_count": 9,
   "metadata": {},
   "outputs": [],
   "source": [
    "import cv2 as cv\n",
    "import os\n",
    "import sys\n",
    "import numpy as np\n",
    "import pandas as pd\n",
    "import random\n",
    "import matplotlib.pyplot as plt\n",
    "from sklearn.model_selection import train_test_split\n",
    "from sklearn.cluster import KMeans\n",
    "from sklearn.metrics import *\n",
    "from skimage.feature import (match_descriptors, corner_harris,\n",
    "                             corner_peaks, ORB, plot_matches)\n",
    "from tqdm import tqdm\n",
    "from ipywidgets import interact, interactive, fixed, interact_manual\n",
    "import ipywidgets as widgets\n",
    "%matplotlib inline"
   ]
  },
  {
   "cell_type": "code",
   "execution_count": 6,
   "metadata": {},
   "outputs": [
    {
     "name": "stdout",
     "output_type": "stream",
     "text": [
      "('clase :', 'c0', 'Numero de ejemplares:', 2489)\n",
      "('clase :', 'c1', 'Numero de ejemplares:', 2267)\n",
      "('clase :', 'c2', 'Numero de ejemplares:', 2317)\n",
      "('clase :', 'c3', 'Numero de ejemplares:', 2346)\n",
      "('clase :', 'c4', 'Numero de ejemplares:', 2326)\n",
      "('clase :', 'c5', 'Numero de ejemplares:', 2312)\n",
      "('clase :', 'c6', 'Numero de ejemplares:', 2325)\n",
      "('clase :', 'c7', 'Numero de ejemplares:', 2002)\n",
      "('clase :', 'c8', 'Numero de ejemplares:', 1911)\n",
      "('clase :', 'c9', 'Numero de ejemplares:', 2129)\n"
     ]
    }
   ],
   "source": [
    "classes={0:'Safe Driving'\n",
    "         ,1:'texting - right'\n",
    "         ,2:'talking on the phone - right'\n",
    "         ,3:'texting - left'\n",
    "         ,4:'talking on the phone - left'\n",
    "         ,5:'operating the radio'\n",
    "         ,6:'drinking'\n",
    "         ,7:'reaching behind'\n",
    "         ,8:'hair and makeup'\n",
    "         ,9:'talking to passenger'}\n",
    "data1 = pd.read_csv('../files/driver_imgs_list.csv')\n",
    "for j in np.unique(data1[\"classname\"]):\n",
    "    print (\"clase :\",j,\"Numero de ejemplares:\",np.count_nonzero(data1[\"classname\"][data1.classname==j]))"
   ]
  },
  {
   "cell_type": "markdown",
   "metadata": {},
   "source": [
    "### Data For Dictionary:"
   ]
  },
  {
   "cell_type": "code",
   "execution_count": 8,
   "metadata": {},
   "outputs": [
    {
     "name": "stderr",
     "output_type": "stream",
     "text": [
      "100%|██████████| 10/10 [08:17<00:00, 49.78s/it]\n"
     ]
    }
   ],
   "source": [
    "path_images='../../datasets/driver-detections/train/'\n",
    "descriptor_extractor = ORB(n_keypoints=200)\n",
    "array_ORB=[]\n",
    "size=100 #<1911\n",
    "for i in tqdm(np.unique(data1[\"classname\"])):\n",
    "    for j in np.random.choice(data1[\"img\"][data1.classname==i],size):\n",
    "    #for j in data1[\"img\"][data1.classname==i]:\n",
    "        temp_image=cv.cvtColor(cv.imread(path_images+i+\"/\"+j), cv.COLOR_BGR2GRAY)\n",
    "        descriptor_extractor.detect_and_extract(temp_image)    \n",
    "        if(len(array_ORB)==0):\n",
    "            array_ORB=descriptor_extractor.descriptors \n",
    "        else:\n",
    "            array_ORB=np.vstack((array_ORB,descriptor_extractor.descriptors))\n",
    "\n"
   ]
  },
  {
   "cell_type": "markdown",
   "metadata": {},
   "source": [
    "### Dictionary Creation:"
   ]
  },
  {
   "cell_type": "code",
   "execution_count": 10,
   "metadata": {},
   "outputs": [
    {
     "name": "stdout",
     "output_type": "stream",
     "text": [
      "(70, 256)\n"
     ]
    }
   ],
   "source": [
    "from sklearn.cluster import KMeans\n",
    "v_words=70\n",
    "estimator=KMeans(n_clusters=v_words).fit(array_ORB)\n",
    "dictionary=estimator.cluster_centers_ \n",
    "print dictionary.shape"
   ]
  },
  {
   "cell_type": "markdown",
   "metadata": {},
   "source": [
    "### Histogram Dataset:"
   ]
  },
  {
   "cell_type": "code",
   "execution_count": 11,
   "metadata": {},
   "outputs": [],
   "source": [
    "def build_histogram(descriptor_list, cluster_alg):\n",
    "    histogram = np.zeros(len(cluster_alg.cluster_centers_))\n",
    "    cluster_result =  cluster_alg.predict(descriptor_list)\n",
    "    for i in cluster_result:\n",
    "        histogram[i] += 1.0\n",
    "    return histogram"
   ]
  },
  {
   "cell_type": "code",
   "execution_count": null,
   "metadata": {},
   "outputs": [
    {
     "name": "stderr",
     "output_type": "stream",
     "text": [
      " 30%|███       | 3/10 [22:40<52:54, 453.55s/it]  "
     ]
    }
   ],
   "source": [
    "X=[]\n",
    "y=[]\n",
    "size=1000 #<1911\n",
    "descriptor_extractor = ORB(n_keypoints=200)\n",
    "for i in tqdm(np.unique(data1[\"classname\"])):\n",
    "    #for j in data1[\"img\"][data1.classname==i]:\n",
    "    for j in np.random.choice(data1[\"img\"][data1.classname==i],size):  \n",
    "        temp_image=cv.cvtColor(cv.imread(path_images+i+\"/\"+j), cv.COLOR_BGR2GRAY)\n",
    "        descriptor_extractor.detect_and_extract(temp_image)\n",
    "        temp_desc = descriptor_extractor.descriptors\n",
    "        X.append(build_histogram(temp_desc, estimator))\n",
    "        y.append(int(i[-1]))   \n",
    "         \n",
    "        \n",
    "X=np.array(X)\n",
    "y=np.array(y)\n",
    "\n",
    "test_size = 0.2\n",
    "X_train, X_test, y_train, y_test = train_test_split(X,y,test_size=test_size,shuffle=1)"
   ]
  },
  {
   "cell_type": "markdown",
   "metadata": {},
   "source": [
    "Now, we can use machine learning algorithms to train ans test the **visual word occurrence descriptors**"
   ]
  },
  {
   "cell_type": "code",
   "execution_count": null,
   "metadata": {},
   "outputs": [],
   "source": [
    "from sklearn.svm import SVC\n",
    "from sklearn.naive_bayes import GaussianNB\n",
    "from sklearn.ensemble import RandomForestClassifier\n",
    "from sklearn.metrics import confusion_matrix\n",
    "from sklearn.neighbors import KNeighborsClassifier\n",
    "\n",
    "GN_est = GaussianNB()\n",
    "RF_est = RandomForestClassifier(n_estimators=40)\n",
    "SV_est = SVC(kernel='rbf')\n",
    "KN_est = KNeighborsClassifier(n_neighbors=10)"
   ]
  },
  {
   "cell_type": "markdown",
   "metadata": {},
   "source": [
    "With a K-nearest classifier"
   ]
  },
  {
   "cell_type": "code",
   "execution_count": null,
   "metadata": {},
   "outputs": [],
   "source": [
    "KN_est.fit(X_train, y_train)\n",
    "KN_pr = KN_est.predict(X_test)\n",
    "print KN_est.score(X_test, y_test)\n",
    "cm_test = confusion_matrix(y_test, KN_pr)\n",
    "\n",
    "plt.imshow(cm_test, interpolation=\"nearest\", cmap=plt.cm.Blues);\n",
    "plt.colorbar();"
   ]
  },
  {
   "cell_type": "markdown",
   "metadata": {},
   "source": [
    "With Gaussian"
   ]
  },
  {
   "cell_type": "code",
   "execution_count": null,
   "metadata": {},
   "outputs": [],
   "source": [
    "GN_est.fit(X_train, y_train)\n",
    "GN_pr = GN_est.predict(X_test)\n",
    "print GN_est.score(X_test,y_test)\n",
    "cm_test = confusion_matrix(y_test, GN_pr)\n",
    "\n",
    "plt.imshow(cm_test, interpolation=\"nearest\", cmap=plt.cm.Blues);\n",
    "plt.colorbar();"
   ]
  },
  {
   "cell_type": "markdown",
   "metadata": {},
   "source": [
    "With Random Forest"
   ]
  },
  {
   "cell_type": "code",
   "execution_count": null,
   "metadata": {},
   "outputs": [],
   "source": [
    "RF_est.fit(X_train,y_train)\n",
    "RF_pr = RF_est.predict(X_test)\n",
    "print RF_est.score(X_test,y_test)\n",
    "cm_test = confusion_matrix(y_test, RF_pr)\n",
    "\n",
    "plt.imshow(cm_test, interpolation=\"nearest\", cmap=plt.cm.Blues);\n",
    "plt.colorbar();"
   ]
  },
  {
   "cell_type": "markdown",
   "metadata": {},
   "source": [
    "With SVC"
   ]
  },
  {
   "cell_type": "code",
   "execution_count": null,
   "metadata": {},
   "outputs": [],
   "source": [
    "SV_est.fit(X_train,y_train)\n",
    "SV_pr = SV_est.predict(X_test)\n",
    "print SV_est.score(X_test,y_test)\n",
    "cm_test = confusion_matrix(y_test, SV_pr)\n",
    "\n",
    "plt.imshow(cm_test, interpolation=\"nearest\", cmap=plt.cm.Blues);\n",
    "plt.colorbar();"
   ]
  }
 ],
 "metadata": {
  "kernelspec": {
   "display_name": "Python 2",
   "language": "python",
   "name": "python2"
  },
  "language_info": {
   "codemirror_mode": {
    "name": "ipython",
    "version": 2
   },
   "file_extension": ".py",
   "mimetype": "text/x-python",
   "name": "python",
   "nbconvert_exporter": "python",
   "pygments_lexer": "ipython2",
   "version": "2.7.14"
  }
 },
 "nbformat": 4,
 "nbformat_minor": 2
}

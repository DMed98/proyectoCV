{
 "cells": [
  {
   "cell_type": "markdown",
   "metadata": {},
   "source": [
    "## Librerías :"
   ]
  },
  {
   "cell_type": "code",
   "execution_count": 2,
   "metadata": {},
   "outputs": [],
   "source": [
    "import tensorflow as tf\n",
    "from tensorflow import keras\n",
    "import os\n",
    "import sys\n",
    "import cv2 as cv\n",
    "import random\n",
    "import pandas as pd\n",
    "import numpy as np\n",
    "import matplotlib.pyplot as plt\n",
    "from sklearn.model_selection import train_test_split\n",
    "from sklearn.metrics import *\n",
    "from tqdm import tqdm\n",
    "%matplotlib inline"
   ]
  },
  {
   "cell_type": "markdown",
   "metadata": {},
   "source": [
    "## Data Analysis:\n"
   ]
  },
  {
   "cell_type": "code",
   "execution_count": 3,
   "metadata": {},
   "outputs": [],
   "source": [
    "classes={0:'Safe Driving'\n",
    "         ,1:'texting - right'\n",
    "         ,2:'talking on the phone - right'\n",
    "         ,3:'texting - left'\n",
    "         ,4:'talking on the phone - left'\n",
    "         ,5:'operating the radio'\n",
    "         ,6:'drinking'\n",
    "         ,7:'reaching behind'\n",
    "         ,8:'hair and makeup'\n",
    "         ,9:'talking to passenger'}"
   ]
  },
  {
   "cell_type": "code",
   "execution_count": 4,
   "metadata": {
    "scrolled": true
   },
   "outputs": [
    {
     "name": "stdout",
     "output_type": "stream",
     "text": [
      "clase : c0 Numero de ejemplares: 2489\n",
      "clase : c1 Numero de ejemplares: 2267\n",
      "clase : c2 Numero de ejemplares: 2317\n",
      "clase : c3 Numero de ejemplares: 2346\n",
      "clase : c4 Numero de ejemplares: 2326\n",
      "clase : c5 Numero de ejemplares: 2312\n",
      "clase : c6 Numero de ejemplares: 2325\n",
      "clase : c7 Numero de ejemplares: 2002\n",
      "clase : c8 Numero de ejemplares: 1911\n",
      "clase : c9 Numero de ejemplares: 2129\n"
     ]
    }
   ],
   "source": [
    "data1 = pd.read_csv('../files/driver_imgs_list.csv')\n",
    "\n",
    "for j in np.unique(data1[\"classname\"]):\n",
    "    print \"clase :\",j,\"Numero de ejemplares:\",np.count_nonzero(data1[\"classname\"][data1.classname==j])"
   ]
  },
  {
   "cell_type": "code",
   "execution_count": 5,
   "metadata": {},
   "outputs": [
    {
     "name": "stdout",
     "output_type": "stream",
     "text": [
      "('Numero Ejemplares Test:', 79726)\n"
     ]
    }
   ],
   "source": [
    "path_test_images='../../datasets/driver-detections/test/'\n",
    "path_images='../../datasets/driver-detections/train/'\n",
    "test_images_names=os.listdir(path_test_images)\n",
    "print(\"Numero Ejemplares Test:\",len(test_images_names))"
   ]
  },
  {
   "cell_type": "code",
   "execution_count": 6,
   "metadata": {},
   "outputs": [
    {
     "data": {
      "text/html": [
       "<div>\n",
       "<style scoped>\n",
       "    .dataframe tbody tr th:only-of-type {\n",
       "        vertical-align: middle;\n",
       "    }\n",
       "\n",
       "    .dataframe tbody tr th {\n",
       "        vertical-align: top;\n",
       "    }\n",
       "\n",
       "    .dataframe thead th {\n",
       "        text-align: right;\n",
       "    }\n",
       "</style>\n",
       "<table border=\"1\" class=\"dataframe\">\n",
       "  <thead>\n",
       "    <tr style=\"text-align: right;\">\n",
       "      <th></th>\n",
       "      <th>subject</th>\n",
       "      <th>classname</th>\n",
       "      <th>img</th>\n",
       "    </tr>\n",
       "  </thead>\n",
       "  <tbody>\n",
       "    <tr>\n",
       "      <th>0</th>\n",
       "      <td>p002</td>\n",
       "      <td>c0</td>\n",
       "      <td>img_44733.jpg</td>\n",
       "    </tr>\n",
       "    <tr>\n",
       "      <th>1</th>\n",
       "      <td>p002</td>\n",
       "      <td>c0</td>\n",
       "      <td>img_72999.jpg</td>\n",
       "    </tr>\n",
       "    <tr>\n",
       "      <th>2</th>\n",
       "      <td>p002</td>\n",
       "      <td>c0</td>\n",
       "      <td>img_25094.jpg</td>\n",
       "    </tr>\n",
       "    <tr>\n",
       "      <th>3</th>\n",
       "      <td>p002</td>\n",
       "      <td>c0</td>\n",
       "      <td>img_69092.jpg</td>\n",
       "    </tr>\n",
       "    <tr>\n",
       "      <th>4</th>\n",
       "      <td>p002</td>\n",
       "      <td>c0</td>\n",
       "      <td>img_92629.jpg</td>\n",
       "    </tr>\n",
       "  </tbody>\n",
       "</table>\n",
       "</div>"
      ],
      "text/plain": [
       "  subject classname            img\n",
       "0    p002        c0  img_44733.jpg\n",
       "1    p002        c0  img_72999.jpg\n",
       "2    p002        c0  img_25094.jpg\n",
       "3    p002        c0  img_69092.jpg\n",
       "4    p002        c0  img_92629.jpg"
      ]
     },
     "execution_count": 6,
     "metadata": {},
     "output_type": "execute_result"
    }
   ],
   "source": [
    "data1.head()"
   ]
  },
  {
   "cell_type": "code",
   "execution_count": 7,
   "metadata": {},
   "outputs": [
    {
     "name": "stdout",
     "output_type": "stream",
     "text": [
      "Las dimensiones de cada imagen son de: (480, 640, 3)\n"
     ]
    }
   ],
   "source": [
    "imagen=cv.imread(path_test_images+random.choice(test_images_names))\n",
    "print \"Las dimensiones de cada imagen son de:\",imagen.shape"
   ]
  },
  {
   "cell_type": "code",
   "execution_count": 8,
   "metadata": {},
   "outputs": [
    {
     "data": {
      "text/plain": [
       "<matplotlib.image.AxesImage at 0x7f77952a12d0>"
      ]
     },
     "execution_count": 8,
     "metadata": {},
     "output_type": "execute_result"
    },
    {
     "data": {
      "image/png": "[encoded data removed]",
      "text/plain": [
       "<matplotlib.figure.Figure at 0x7f779587f590>"
      ]
     },
     "metadata": {},
     "output_type": "display_data"
    }
   ],
   "source": [
    "imagen2=cv.resize(imagen,(64,64),interpolation = cv.INTER_CUBIC)\n",
    "plt.imshow(imagen2)"
   ]
  },
  {
   "cell_type": "markdown",
   "metadata": {},
   "source": [
    "## Tiny Dataset Creation:"
   ]
  },
  {
   "cell_type": "code",
   "execution_count": null,
   "metadata": {},
   "outputs": [
    {
     "name": "stderr",
     "output_type": "stream",
     "text": [
      " 30%|███       | 3/10 [02:33<05:57, 51.04s/it]"
     ]
    }
   ],
   "source": [
    "size=1000 #<1911\n",
    "X=[]\n",
    "y=[]\n",
    "for i in tqdm(np.unique(data1[\"classname\"])):\n",
    "    for j in np.random.choice(data1[\"img\"][data1.classname==i],size):\n",
    "    #for j in data1[\"img\"][data1.classname==i]:\n",
    "        temp_image=cv.cvtColor(cv.imread(path_images+i+\"/\"+j), cv.COLOR_BGR2RGB)\n",
    "        X.append(cv.resize(temp_image,(64,64),interpolation = cv.INTER_CUBIC))\n",
    "        y.append(int(i[-1]))\n",
    "        \n",
    "c = list(zip(X, y))\n",
    "\n",
    "random.shuffle(c)\n",
    "\n",
    "X,y = zip(*c)   \n",
    "\n",
    "X=np.array(X)\n",
    "y=np.array(y)\n",
    "\n",
    "test_size = 0.2\n",
    "X_train, X_test, y_train, y_test = train_test_split(X,y,test_size=test_size,shuffle=1)\n",
    "\n",
    "\n",
    "\n",
    "X_train = X_train.astype('float32')\n",
    "X_train /= 255\n",
    "X_test = X_test.astype('float32')\n",
    "X_test /= 255\n",
    "\n",
    "\n",
    "print(X_train.shape,y_train.shape,X_test.shape,y_test.shape)"
   ]
  },
  {
   "cell_type": "code",
   "execution_count": null,
   "metadata": {},
   "outputs": [],
   "source": [
    "\n",
    "plt.figure(figsize=(10,10))\n",
    "for i,j in enumerate(np.random.randint(0,500,9)):\n",
    "    plt.subplot(3,3,i+1)\n",
    "    plt.xticks([])\n",
    "    plt.yticks([])\n",
    "    plt.grid(False)\n",
    "    plt.imshow(X_train[j],cmap=plt.cm.binary)\n",
    "    plt.xlabel(classes[y_train[j]]+\"=\"+str(y_train[j]))"
   ]
  },
  {
   "cell_type": "markdown",
   "metadata": {},
   "source": [
    "## DNN model definition:\n",
    "\n",
    "### <span style=\"color:orange\"> Model 1</span>:"
   ]
  },
  {
   "cell_type": "code",
   "execution_count": 11,
   "metadata": {},
   "outputs": [],
   "source": [
    "model = keras.models.Sequential([\n",
    "    keras.layers.Flatten( input_shape=[64, 64, 3]),\n",
    "    keras.layers.Dense(512, activation=tf.nn.relu),\n",
    "    keras.layers.Dense(256, activation=tf.nn.relu),\n",
    "    keras.layers.Dense(10, activation=tf.nn.softmax)\n",
    "])"
   ]
  },
  {
   "cell_type": "code",
   "execution_count": 12,
   "metadata": {},
   "outputs": [
    {
     "name": "stdout",
     "output_type": "stream",
     "text": [
      "_________________________________________________________________\n",
      "Layer (type)                 Output Shape              Param #   \n",
      "=================================================================\n",
      "flatten_1 (Flatten)          (None, 12288)             0         \n",
      "_________________________________________________________________\n",
      "dense_1 (Dense)              (None, 512)               6291968   \n",
      "_________________________________________________________________\n",
      "dense_2 (Dense)              (None, 256)               131328    \n",
      "_________________________________________________________________\n",
      "dense_3 (Dense)              (None, 10)                2570      \n",
      "=================================================================\n",
      "Total params: 6,425,866\n",
      "Trainable params: 6,425,866\n",
      "Non-trainable params: 0\n",
      "_________________________________________________________________\n"
     ]
    }
   ],
   "source": [
    "model.summary()"
   ]
  },
  {
   "cell_type": "markdown",
   "metadata": {},
   "source": [
    "$Fitting:$"
   ]
  },
  {
   "cell_type": "code",
   "execution_count": 21,
   "metadata": {},
   "outputs": [],
   "source": [
    "model.compile(optimizer=tf.train.AdamOptimizer(), \n",
    "              loss='sparse_categorical_crossentropy',\n",
    "              metrics=['accuracy'])"
   ]
  },
  {
   "cell_type": "code",
   "execution_count": 22,
   "metadata": {},
   "outputs": [
    {
     "name": "stdout",
     "output_type": "stream",
     "text": [
      "Epoch 1/15\n",
      "500/500 [==============================] - 3s - loss: 9.9444 - acc: 0.1100     \n",
      "Epoch 2/15\n",
      "500/500 [==============================] - 2s - loss: 10.6244 - acc: 0.1500     \n",
      "Epoch 3/15\n",
      "500/500 [==============================] - 2s - loss: 10.1040 - acc: 0.2460     \n",
      "Epoch 4/15\n",
      "500/500 [==============================] - 2s - loss: 6.9674 - acc: 0.1880     \n",
      "Epoch 5/15\n",
      "500/500 [==============================] - 2s - loss: 2.1441 - acc: 0.2380     \n",
      "Epoch 6/15\n",
      "500/500 [==============================] - 2s - loss: 1.8034 - acc: 0.3780     \n",
      "Epoch 7/15\n",
      "500/500 [==============================] - 2s - loss: 1.6077 - acc: 0.4620     \n",
      "Epoch 8/15\n",
      "500/500 [==============================] - 2s - loss: 1.3148 - acc: 0.5220     \n",
      "Epoch 9/15\n",
      "500/500 [==============================] - 2s - loss: 1.1266 - acc: 0.6020     \n",
      "Epoch 10/15\n",
      "500/500 [==============================] - 3s - loss: 0.9260 - acc: 0.6760     \n",
      "Epoch 11/15\n",
      "500/500 [==============================] - 2s - loss: 0.7481 - acc: 0.7200     \n",
      "Epoch 12/15\n",
      "500/500 [==============================] - 3s - loss: 0.5914 - acc: 0.7840     \n",
      "Epoch 13/15\n",
      "500/500 [==============================] - 2s - loss: 0.5402 - acc: 0.8100     \n",
      "Epoch 14/15\n",
      "500/500 [==============================] - 2s - loss: 0.4432 - acc: 0.8640     \n",
      "Epoch 15/15\n",
      "500/500 [==============================] - 2s - loss: 0.2706 - acc: 0.9380     \n"
     ]
    }
   ],
   "source": [
    "history = model.fit(X_train,y_train, epochs=10, batch_size=160, verbose=2,validation_data=(X_test, y_test))"
   ]
  },
  {
   "cell_type": "code",
   "execution_count": 23,
   "metadata": {},
   "outputs": [
    {
     "data": {
      "text/plain": [
       "<matplotlib.legend.Legend at 0x7f1dea586b90>"
      ]
     },
     "execution_count": 23,
     "metadata": {},
     "output_type": "execute_result"
    },
    {
     "data": {
      "image/png": "[encoded data removed]",
      "text/plain": [
       "<matplotlib.figure.Figure at 0x7f1dea579a90>"
      ]
     },
     "metadata": {},
     "output_type": "display_data"
    }
   ],
   "source": [
    "plt.plot(history.history['acc'], label='Train Accuracy')\n",
    "plt.plot(history.history['val_acc'], label='Validation Accuracy')\n",
    "plt.xlabel('Epochs')\n",
    "plt.ylabel('Accuracy')\n",
    "plt.legend()"
   ]
  },
  {
   "cell_type": "markdown",
   "metadata": {},
   "source": [
    "## DNN changing parameters and layers, playing around with models"
   ]
  },
  {
   "cell_type": "code",
   "execution_count": 33,
   "metadata": {},
   "outputs": [],
   "source": [
    "model2 = keras.models.Sequential([\n",
    "    keras.layers.Flatten( input_shape=[64, 64, 3]),\n",
    "    keras.layers.Dense(512, activation=tf.nn.relu),\n",
    "    keras.layers.Dense(512, activation=tf.nn.relu),\n",
    "    keras.layers.Dense(512, activation=tf.nn.relu),\n",
    "    keras.layers.Dense(10, activation=tf.nn.softmax)\n",
    "])"
   ]
  },
  {
   "cell_type": "code",
   "execution_count": 34,
   "metadata": {},
   "outputs": [
    {
     "name": "stdout",
     "output_type": "stream",
     "text": [
      "_________________________________________________________________\n",
      "Layer (type)                 Output Shape              Param #   \n",
      "=================================================================\n",
      "flatten_5 (Flatten)          (None, 12288)             0         \n",
      "_________________________________________________________________\n",
      "dense_16 (Dense)             (None, 512)               6291968   \n",
      "_________________________________________________________________\n",
      "dense_17 (Dense)             (None, 512)               262656    \n",
      "_________________________________________________________________\n",
      "dense_18 (Dense)             (None, 512)               262656    \n",
      "_________________________________________________________________\n",
      "dense_19 (Dense)             (None, 10)                5130      \n",
      "=================================================================\n",
      "Total params: 6,822,410\n",
      "Trainable params: 6,822,410\n",
      "Non-trainable params: 0\n",
      "_________________________________________________________________\n"
     ]
    }
   ],
   "source": [
    "model2.summary()"
   ]
  },
  {
   "cell_type": "code",
   "execution_count": 35,
   "metadata": {},
   "outputs": [],
   "source": [
    "model2.compile(optimizer=tf.train.AdamOptimizer(), \n",
    "              loss='sparse_categorical_crossentropy',\n",
    "              metrics=['accuracy'])"
   ]
  },
  {
   "cell_type": "code",
   "execution_count": 36,
   "metadata": {},
   "outputs": [
    {
     "name": "stdout",
     "output_type": "stream",
     "text": [
      "Epoch 1/15\n",
      "500/500 [==============================] - 3s - loss: 3.7135 - acc: 0.1120     \n",
      "Epoch 2/15\n",
      "500/500 [==============================] - 2s - loss: 2.2864 - acc: 0.1600     \n",
      "Epoch 3/15\n",
      "500/500 [==============================] - 2s - loss: 2.1832 - acc: 0.2300     \n",
      "Epoch 4/15\n",
      "500/500 [==============================] - 2s - loss: 1.8805 - acc: 0.3060     \n",
      "Epoch 5/15\n",
      "500/500 [==============================] - 2s - loss: 1.6209 - acc: 0.4120     \n",
      "Epoch 6/15\n",
      "500/500 [==============================] - 2s - loss: 1.3854 - acc: 0.4620     \n",
      "Epoch 7/15\n",
      "500/500 [==============================] - 2s - loss: 1.3337 - acc: 0.5120     \n",
      "Epoch 8/15\n",
      "500/500 [==============================] - 2s - loss: 1.2528 - acc: 0.5480     \n",
      "Epoch 9/15\n",
      "500/500 [==============================] - 2s - loss: 1.1150 - acc: 0.6160     \n",
      "Epoch 10/15\n",
      "500/500 [==============================] - 2s - loss: 0.8452 - acc: 0.6880     \n",
      "Epoch 11/15\n",
      "500/500 [==============================] - 2s - loss: 0.7969 - acc: 0.7360     \n",
      "Epoch 12/15\n",
      "500/500 [==============================] - 2s - loss: 0.5123 - acc: 0.8180     \n",
      "Epoch 13/15\n",
      "500/500 [==============================] - 2s - loss: 0.4768 - acc: 0.8300     \n",
      "Epoch 14/15\n",
      "500/500 [==============================] - 2s - loss: 0.5795 - acc: 0.7980     \n",
      "Epoch 15/15\n",
      "500/500 [==============================] - 2s - loss: 0.4757 - acc: 0.8280     \n"
     ]
    }
   ],
   "source": [
    "history = model2.fit(X_train,y_train, epochs=10, batch_size=160, verbose=2,validation_data=(X_test, y_test))"
   ]
  },
  {
   "cell_type": "code",
   "execution_count": 37,
   "metadata": {},
   "outputs": [
    {
     "data": {
      "text/plain": [
       "<matplotlib.legend.Legend at 0x7f1de80de590>"
      ]
     },
     "execution_count": 37,
     "metadata": {},
     "output_type": "execute_result"
    },
    {
     "data": {
      "image/png": "[encoded data removed]",
      "text/plain": [
       "<matplotlib.figure.Figure at 0x7f1de8ceffd0>"
      ]
     },
     "metadata": {},
     "output_type": "display_data"
    }
   ],
   "source": [
    "plt.plot(history.history['acc'], label='Train Accuracy')\n",
    "plt.plot(history.history['val_acc'], label='Validation Accuracy')\n",
    "plt.xlabel('Epochs')\n",
    "plt.ylabel('Accuracy')\n",
    "plt.legend()"
   ]
  },
  {
   "cell_type": "code",
   "execution_count": null,
   "metadata": {},
   "outputs": [],
   "source": []
  },
  {
   "cell_type": "markdown",
   "metadata": {},
   "source": [
    "## Model 3"
   ]
  },
  {
   "cell_type": "code",
   "execution_count": 47,
   "metadata": {},
   "outputs": [],
   "source": [
    "model3 = keras.models.Sequential([\n",
    "    keras.layers.Flatten( input_shape=[64, 64, 3]),\n",
    "    keras.layers.Dense(128, activation=tf.nn.relu),\n",
    "    keras.layers.Dense(256, activation=tf.nn.relu),\n",
    "    keras.layers.Dense(512, activation=tf.nn.relu),\n",
    "    keras.layers.Dense(1024, activation=tf.nn.softmax)\n",
    "])"
   ]
  },
  {
   "cell_type": "code",
   "execution_count": 48,
   "metadata": {},
   "outputs": [
    {
     "name": "stdout",
     "output_type": "stream",
     "text": [
      "_________________________________________________________________\n",
      "Layer (type)                 Output Shape              Param #   \n",
      "=================================================================\n",
      "flatten_8 (Flatten)          (None, 12288)             0         \n",
      "_________________________________________________________________\n",
      "dense_28 (Dense)             (None, 128)               1572992   \n",
      "_________________________________________________________________\n",
      "dense_29 (Dense)             (None, 256)               33024     \n",
      "_________________________________________________________________\n",
      "dense_30 (Dense)             (None, 512)               131584    \n",
      "_________________________________________________________________\n",
      "dense_31 (Dense)             (None, 1024)              525312    \n",
      "=================================================================\n",
      "Total params: 2,262,912\n",
      "Trainable params: 2,262,912\n",
      "Non-trainable params: 0\n",
      "_________________________________________________________________\n"
     ]
    }
   ],
   "source": [
    "model3.summary()"
   ]
  },
  {
   "cell_type": "code",
   "execution_count": 49,
   "metadata": {},
   "outputs": [],
   "source": [
    "model3.compile(optimizer=tf.train.AdamOptimizer(), \n",
    "              loss='sparse_categorical_crossentropy',\n",
    "              metrics=['accuracy'])"
   ]
  },
  {
   "cell_type": "code",
   "execution_count": 50,
   "metadata": {},
   "outputs": [
    {
     "name": "stdout",
     "output_type": "stream",
     "text": [
      "Epoch 1/15\n",
      "500/500 [==============================] - 1s - loss: 3.0128 - acc: 0.0940     \n",
      "Epoch 2/15\n",
      "500/500 [==============================] - 1s - loss: 2.2601 - acc: 0.1880     \n",
      "Epoch 3/15\n",
      "500/500 [==============================] - 1s - loss: 2.0028 - acc: 0.2960     \n",
      "Epoch 4/15\n",
      "500/500 [==============================] - 1s - loss: 1.6568 - acc: 0.4080     \n",
      "Epoch 5/15\n",
      "500/500 [==============================] - 1s - loss: 1.4259 - acc: 0.4700     \n",
      "Epoch 6/15\n",
      "500/500 [==============================] - 1s - loss: 1.2573 - acc: 0.5320     \n",
      "Epoch 7/15\n",
      "500/500 [==============================] - 1s - loss: 1.1378 - acc: 0.5940     \n",
      "Epoch 8/15\n",
      "500/500 [==============================] - 1s - loss: 1.0223 - acc: 0.6400     \n",
      "Epoch 9/15\n",
      "500/500 [==============================] - 1s - loss: 0.8620 - acc: 0.7000     \n",
      "Epoch 10/15\n",
      "500/500 [==============================] - 1s - loss: 0.7563 - acc: 0.7160     \n",
      "Epoch 11/15\n",
      "500/500 [==============================] - 1s - loss: 0.6315 - acc: 0.7840     \n",
      "Epoch 12/15\n",
      "500/500 [==============================] - 1s - loss: 0.4397 - acc: 0.8660     \n",
      "Epoch 13/15\n",
      "500/500 [==============================] - 1s - loss: 0.5585 - acc: 0.8260     \n",
      "Epoch 14/15\n",
      "500/500 [==============================] - 1s - loss: 0.3925 - acc: 0.8680     \n",
      "Epoch 15/15\n",
      "500/500 [==============================] - 1s - loss: 0.3554 - acc: 0.8840     \n"
     ]
    }
   ],
   "source": [
    "history = model3.fit(X_train,y_train, epochs=10, batch_size=160, verbose=2,validation_data=(X_test, y_test))"
   ]
  },
  {
   "cell_type": "code",
   "execution_count": 51,
   "metadata": {},
   "outputs": [
    {
     "data": {
      "text/plain": [
       "<matplotlib.legend.Legend at 0x7f1de1609c10>"
      ]
     },
     "execution_count": 51,
     "metadata": {},
     "output_type": "execute_result"
    },
    {
     "data": {
      "image/png": "[encoded data removed]",
      "text/plain": [
       "<matplotlib.figure.Figure at 0x7f1de18e9210>"
      ]
     },
     "metadata": {},
     "output_type": "display_data"
    }
   ],
   "source": [
    "plt.plot(history.history['acc'], label='Train Accuracy')\n",
    "plt.plot(history.history['val_acc'], label='Validation Accuracy')\n",
    "plt.xlabel('Epochs')\n",
    "plt.ylabel('Accuracy')\n",
    "plt.legend()"
   ]
  },
  {
   "cell_type": "code",
   "execution_count": null,
   "metadata": {},
   "outputs": [],
   "source": []
  },
  {
   "cell_type": "markdown",
   "metadata": {},
   "source": [
    "## Model 5"
   ]
  },
  {
   "cell_type": "code",
   "execution_count": 32,
   "metadata": {},
   "outputs": [],
   "source": [
    "model5 = keras.models.Sequential([\n",
    "    keras.layers.Flatten( input_shape=[64, 64, 3]),\n",
    "    keras.layers.Dense(10, activation=tf.nn.softmax)\n",
    "])"
   ]
  },
  {
   "cell_type": "code",
   "execution_count": 33,
   "metadata": {},
   "outputs": [
    {
     "name": "stdout",
     "output_type": "stream",
     "text": [
      "_________________________________________________________________\n",
      "Layer (type)                 Output Shape              Param #   \n",
      "=================================================================\n",
      "flatten_5 (Flatten)          (None, 12288)             0         \n",
      "_________________________________________________________________\n",
      "dense_8 (Dense)              (None, 10)                122890    \n",
      "=================================================================\n",
      "Total params: 122,890\n",
      "Trainable params: 122,890\n",
      "Non-trainable params: 0\n",
      "_________________________________________________________________\n"
     ]
    }
   ],
   "source": [
    "model5.summary()"
   ]
  },
  {
   "cell_type": "code",
   "execution_count": 34,
   "metadata": {},
   "outputs": [],
   "source": [
    "model5.compile(optimizer=tf.train.AdamOptimizer(), \n",
    "              loss='sparse_categorical_crossentropy',\n",
    "              metrics=['accuracy'])"
   ]
  },
  {
   "cell_type": "code",
   "execution_count": 35,
   "metadata": {},
   "outputs": [
    {
     "name": "stdout",
     "output_type": "stream",
     "text": [
      "Epoch 1/15\n",
      "500/500 [==============================] - 0s - loss: 3.1216 - acc: 0.1560      \n",
      "Epoch 2/15\n",
      "500/500 [==============================] - 0s - loss: 1.7024 - acc: 0.4440     \n",
      "Epoch 3/15\n",
      "500/500 [==============================] - 0s - loss: 1.2522 - acc: 0.6020     \n",
      "Epoch 4/15\n",
      "500/500 [==============================] - 0s - loss: 1.1011 - acc: 0.6540     \n",
      "Epoch 5/15\n",
      "500/500 [==============================] - 0s - loss: 0.9426 - acc: 0.7020     \n",
      "Epoch 6/15\n",
      "500/500 [==============================] - 0s - loss: 0.7041 - acc: 0.7820     \n",
      "Epoch 7/15\n",
      "500/500 [==============================] - 0s - loss: 0.5119 - acc: 0.8720     \n",
      "Epoch 8/15\n",
      "500/500 [==============================] - 0s - loss: 0.4004 - acc: 0.9040     \n",
      "Epoch 9/15\n",
      "500/500 [==============================] - 0s - loss: 0.3270 - acc: 0.9260     \n",
      "Epoch 10/15\n",
      "500/500 [==============================] - 0s - loss: 0.2911 - acc: 0.9400     \n",
      "Epoch 11/15\n",
      "500/500 [==============================] - 0s - loss: 0.2173 - acc: 0.9760     \n",
      "Epoch 12/15\n",
      "500/500 [==============================] - 0s - loss: 0.1742 - acc: 0.9860     \n",
      "Epoch 13/15\n",
      "500/500 [==============================] - 0s - loss: 0.1396 - acc: 0.9900     \n",
      "Epoch 14/15\n",
      "500/500 [==============================] - 0s - loss: 0.1404 - acc: 0.9960     \n",
      "Epoch 15/15\n",
      "500/500 [==============================] - 0s - loss: 0.0968 - acc: 1.0000     \n"
     ]
    }
   ],
   "source": [
    "history = model5.fit(X_train,y_train, epochs=10, batch_size=160, verbose=2,validation_data=(X_test, y_test))"
   ]
  },
  {
   "cell_type": "code",
   "execution_count": 21,
   "metadata": {},
   "outputs": [
    {
     "data": {
      "text/plain": [
       "<matplotlib.legend.Legend at 0x7fea320adf10>"
      ]
     },
     "execution_count": 21,
     "metadata": {},
     "output_type": "execute_result"
    },
    {
     "data": {
      "image/png": "[encoded data removed]",
      "text/plain": [
       "<matplotlib.figure.Figure at 0x7fea31d1cd10>"
      ]
     },
     "metadata": {},
     "output_type": "display_data"
    }
   ],
   "source": [
    "plt.plot(history.history['acc'], label='Train Accuracy')\n",
    "plt.plot(history.history['val_acc'], label='Validation Accuracy')\n",
    "plt.xlabel('Epochs')\n",
    "plt.ylabel('Accuracy')\n",
    "plt.legend()"
   ]
  },
  {
   "cell_type": "code",
   "execution_count": null,
   "metadata": {},
   "outputs": [],
   "source": []
  },
  {
   "cell_type": "markdown",
   "metadata": {},
   "source": [
    "## Model 4"
   ]
  },
  {
   "cell_type": "code",
   "execution_count": 36,
   "metadata": {},
   "outputs": [],
   "source": [
    "model4 = keras.models.Sequential([\n",
    "    keras.layers.Flatten( input_shape=[64, 64, 3]),\n",
    "    keras.layers.Dense(400, activation=tf.nn.relu),\n",
    "    keras.layers.Dense(10, activation=tf.nn.softmax)\n",
    "])"
   ]
  },
  {
   "cell_type": "code",
   "execution_count": 37,
   "metadata": {},
   "outputs": [
    {
     "name": "stdout",
     "output_type": "stream",
     "text": [
      "_________________________________________________________________\n",
      "Layer (type)                 Output Shape              Param #   \n",
      "=================================================================\n",
      "flatten_6 (Flatten)          (None, 12288)             0         \n",
      "_________________________________________________________________\n",
      "dense_9 (Dense)              (None, 400)               4915600   \n",
      "_________________________________________________________________\n",
      "dense_10 (Dense)             (None, 10)                4010      \n",
      "=================================================================\n",
      "Total params: 4,919,610\n",
      "Trainable params: 4,919,610\n",
      "Non-trainable params: 0\n",
      "_________________________________________________________________\n"
     ]
    }
   ],
   "source": [
    "model4.summary()"
   ]
  },
  {
   "cell_type": "code",
   "execution_count": 38,
   "metadata": {},
   "outputs": [],
   "source": [
    "model4.compile(optimizer=tf.train.AdamOptimizer(), \n",
    "              loss='sparse_categorical_crossentropy',\n",
    "              metrics=['accuracy'])"
   ]
  },
  {
   "cell_type": "code",
   "execution_count": 39,
   "metadata": {},
   "outputs": [
    {
     "name": "stdout",
     "output_type": "stream",
     "text": [
      "Epoch 1/15\n",
      "500/500 [==============================] - 2s - loss: 9.2278 - acc: 0.1420     \n",
      "Epoch 2/15\n",
      "500/500 [==============================] - 1s - loss: 7.0188 - acc: 0.2380     \n",
      "Epoch 3/15\n",
      "500/500 [==============================] - 1s - loss: 5.9099 - acc: 0.3740     \n",
      "Epoch 4/15\n",
      "500/500 [==============================] - 1s - loss: 5.5479 - acc: 0.4980     \n",
      "Epoch 5/15\n",
      "500/500 [==============================] - 1s - loss: 5.6997 - acc: 0.4780     \n",
      "Epoch 6/15\n",
      "500/500 [==============================] - 2s - loss: 5.5285 - acc: 0.4920     \n",
      "Epoch 7/15\n",
      "500/500 [==============================] - 2s - loss: 5.1611 - acc: 0.5860     \n",
      "Epoch 8/15\n",
      "500/500 [==============================] - 2s - loss: 5.0666 - acc: 0.6440     \n",
      "Epoch 9/15\n",
      "500/500 [==============================] - 1s - loss: 4.9948 - acc: 0.6380     \n",
      "Epoch 10/15\n",
      "500/500 [==============================] - 1s - loss: 4.9715 - acc: 0.6560     \n",
      "Epoch 11/15\n",
      "500/500 [==============================] - 2s - loss: 4.9189 - acc: 0.6800     \n",
      "Epoch 12/15\n",
      "500/500 [==============================] - 2s - loss: 4.9092 - acc: 0.6900     \n",
      "Epoch 13/15\n",
      "500/500 [==============================] - 1s - loss: 4.8662 - acc: 0.7000     \n",
      "Epoch 14/15\n",
      "500/500 [==============================] - 2s - loss: 4.8554 - acc: 0.7000     \n",
      "Epoch 15/15\n",
      "500/500 [==============================] - 2s - loss: 4.8530 - acc: 0.7000     \n"
     ]
    }
   ],
   "source": [
    "history = model4.fit(X_train, y_train, batch_size=12, epochs=15, verbose=1)"
   ]
  },
  {
   "cell_type": "code",
   "execution_count": 40,
   "metadata": {},
   "outputs": [
    {
     "data": {
      "text/plain": [
       "<matplotlib.legend.Legend at 0x7fea28437810>"
      ]
     },
     "execution_count": 40,
     "metadata": {},
     "output_type": "execute_result"
    },
    {
     "data": {
      "image/png": "[encoded data removed]",
      "text/plain": [
       "<matplotlib.figure.Figure at 0x7fea300bf690>"
      ]
     },
     "metadata": {},
     "output_type": "display_data"
    }
   ],
   "source": [
    "plt.plot(history.history['acc'], label='Train Accuracy')\n",
    "plt.plot(history.history['val_acc'], label='Validation Accuracy')\n",
    "plt.xlabel('Epochs')\n",
    "plt.ylabel('Accuracy')\n",
    "plt.legend()"
   ]
  },
  {
   "cell_type": "code",
   "execution_count": null,
   "metadata": {},
   "outputs": [],
   "source": []
  }
 ],
 "metadata": {
  "kernelspec": {
   "display_name": "Python 2",
   "language": "python",
   "name": "python2"
  },
  "language_info": {
   "codemirror_mode": {
    "name": "ipython",
    "version": 2
   },
   "file_extension": ".py",
   "mimetype": "text/x-python",
   "name": "python",
   "nbconvert_exporter": "python",
   "pygments_lexer": "ipython2",
   "version": "2.7.14"
  }
 },
 "nbformat": 4,
 "nbformat_minor": 2
}
